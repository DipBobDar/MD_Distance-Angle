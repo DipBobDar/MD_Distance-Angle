{
  "nbformat": 4,
  "nbformat_minor": 0,
  "metadata": {
    "colab": {
      "provenance": [],
      "authorship_tag": "ABX9TyMbpEmtWqQakoJ4kd8PvX/s",
      "include_colab_link": true
    },
    "kernelspec": {
      "name": "python3",
      "display_name": "Python 3"
    },
    "language_info": {
      "name": "python"
    }
  },
  "cells": [
    {
      "cell_type": "markdown",
      "metadata": {
        "id": "view-in-github",
        "colab_type": "text"
      },
      "source": [
        "<a href=\"https://colab.research.google.com/github/DipBobDar/DipBobDar/blob/main/Distance%26Angle.ipynb\" target=\"_parent\"><img src=\"https://colab.research.google.com/assets/colab-badge.svg\" alt=\"Open In Colab\"/></a>"
      ]
    },
    {
      "cell_type": "markdown",
      "source": [
        "Importing python packages"
      ],
      "metadata": {
        "id": "m2Hs10rm8z7Q"
      }
    },
    {
      "cell_type": "code",
      "execution_count": 1,
      "metadata": {
        "colab": {
          "base_uri": "https://localhost:8080/"
        },
        "id": "x782FozS8oXg",
        "outputId": "3110c9ea-d34b-4c61-e651-39520a219372"
      },
      "outputs": [
        {
          "output_type": "stream",
          "name": "stdout",
          "text": [
            "Requirement already satisfied: numpy in /usr/local/lib/python3.10/dist-packages (1.25.2)\n",
            "Collecting MDAnalysis\n",
            "  Downloading MDAnalysis-2.7.0-cp310-cp310-manylinux_2_17_x86_64.manylinux2014_x86_64.whl (10.1 MB)\n",
            "\u001b[2K     \u001b[90m━━━━━━━━━━━━━━━━━━━━━━━━━━━━━━━━━━━━━━━━\u001b[0m \u001b[32m10.1/10.1 MB\u001b[0m \u001b[31m20.0 MB/s\u001b[0m eta \u001b[36m0:00:00\u001b[0m\n",
            "\u001b[?25hRequirement already satisfied: numpy<2.0,>=1.22.3 in /usr/local/lib/python3.10/dist-packages (from MDAnalysis) (1.25.2)\n",
            "Collecting GridDataFormats>=0.4.0 (from MDAnalysis)\n",
            "  Downloading GridDataFormats-1.0.2-py3-none-any.whl (2.1 MB)\n",
            "\u001b[2K     \u001b[90m━━━━━━━━━━━━━━━━━━━━━━━━━━━━━━━━━━━━━━━━\u001b[0m \u001b[32m2.1/2.1 MB\u001b[0m \u001b[31m39.5 MB/s\u001b[0m eta \u001b[36m0:00:00\u001b[0m\n",
            "\u001b[?25hCollecting mmtf-python>=1.0.0 (from MDAnalysis)\n",
            "  Downloading mmtf_python-1.1.3-py2.py3-none-any.whl (25 kB)\n",
            "Requirement already satisfied: joblib>=0.12 in /usr/local/lib/python3.10/dist-packages (from MDAnalysis) (1.3.2)\n",
            "Requirement already satisfied: scipy>=1.5.0 in /usr/local/lib/python3.10/dist-packages (from MDAnalysis) (1.11.4)\n",
            "Requirement already satisfied: matplotlib>=1.5.1 in /usr/local/lib/python3.10/dist-packages (from MDAnalysis) (3.7.1)\n",
            "Requirement already satisfied: tqdm>=4.43.0 in /usr/local/lib/python3.10/dist-packages (from MDAnalysis) (4.66.2)\n",
            "Requirement already satisfied: threadpoolctl in /usr/local/lib/python3.10/dist-packages (from MDAnalysis) (3.4.0)\n",
            "Requirement already satisfied: packaging in /usr/local/lib/python3.10/dist-packages (from MDAnalysis) (24.0)\n",
            "Collecting fasteners (from MDAnalysis)\n",
            "  Downloading fasteners-0.19-py3-none-any.whl (18 kB)\n",
            "Collecting mda-xdrlib (from MDAnalysis)\n",
            "  Downloading mda_xdrlib-0.2.0-py3-none-any.whl (14 kB)\n",
            "Collecting mrcfile (from GridDataFormats>=0.4.0->MDAnalysis)\n",
            "  Downloading mrcfile-1.5.0-py2.py3-none-any.whl (44 kB)\n",
            "\u001b[2K     \u001b[90m━━━━━━━━━━━━━━━━━━━━━━━━━━━━━━━━━━━━━━━━\u001b[0m \u001b[32m44.1/44.1 kB\u001b[0m \u001b[31m5.4 MB/s\u001b[0m eta \u001b[36m0:00:00\u001b[0m\n",
            "\u001b[?25hRequirement already satisfied: contourpy>=1.0.1 in /usr/local/lib/python3.10/dist-packages (from matplotlib>=1.5.1->MDAnalysis) (1.2.0)\n",
            "Requirement already satisfied: cycler>=0.10 in /usr/local/lib/python3.10/dist-packages (from matplotlib>=1.5.1->MDAnalysis) (0.12.1)\n",
            "Requirement already satisfied: fonttools>=4.22.0 in /usr/local/lib/python3.10/dist-packages (from matplotlib>=1.5.1->MDAnalysis) (4.50.0)\n",
            "Requirement already satisfied: kiwisolver>=1.0.1 in /usr/local/lib/python3.10/dist-packages (from matplotlib>=1.5.1->MDAnalysis) (1.4.5)\n",
            "Requirement already satisfied: pillow>=6.2.0 in /usr/local/lib/python3.10/dist-packages (from matplotlib>=1.5.1->MDAnalysis) (9.4.0)\n",
            "Requirement already satisfied: pyparsing>=2.3.1 in /usr/local/lib/python3.10/dist-packages (from matplotlib>=1.5.1->MDAnalysis) (3.1.2)\n",
            "Requirement already satisfied: python-dateutil>=2.7 in /usr/local/lib/python3.10/dist-packages (from matplotlib>=1.5.1->MDAnalysis) (2.8.2)\n",
            "Requirement already satisfied: msgpack>=1.0.0 in /usr/local/lib/python3.10/dist-packages (from mmtf-python>=1.0.0->MDAnalysis) (1.0.8)\n",
            "Requirement already satisfied: six>=1.5 in /usr/local/lib/python3.10/dist-packages (from python-dateutil>=2.7->matplotlib>=1.5.1->MDAnalysis) (1.16.0)\n",
            "Installing collected packages: mrcfile, mmtf-python, mda-xdrlib, fasteners, GridDataFormats, MDAnalysis\n",
            "Successfully installed GridDataFormats-1.0.2 MDAnalysis-2.7.0 fasteners-0.19 mda-xdrlib-0.2.0 mmtf-python-1.1.3 mrcfile-1.5.0\n"
          ]
        },
        {
          "output_type": "stream",
          "name": "stderr",
          "text": [
            "WARNING:MDAnalysis.coordinates.AMBER:netCDF4 is not available. Writing AMBER ncdf files will be slow.\n"
          ]
        }
      ],
      "source": [
        "!pip install numpy\n",
        "!pip install MDAnalysis\n",
        "import numpy as np\n",
        "import MDAnalysis as mda"
      ]
    },
    {
      "cell_type": "code",
      "source": [
        "import pandas as pd\n",
        "import matplotlib.pyplot as plt"
      ],
      "metadata": {
        "id": "ZiBWMzjZaJOx"
      },
      "execution_count": 22,
      "outputs": []
    },
    {
      "cell_type": "markdown",
      "source": [
        "Load the trajectory of the files"
      ],
      "metadata": {
        "id": "GlA8CyBn9Sze"
      }
    },
    {
      "cell_type": "code",
      "source": [
        "u3 = mda.Universe(\"3uMD2.gro\", \"3uMD3_noPBC.xtc\")\n",
        "u1 = mda.Universe(\"3uMD2.gro\", \"3uMD1_noPBC.xtc\")\n",
        "u2 = mda.Universe(\"3uMD2.gro\", \"3uMD2_noPBC.xtc\")"
      ],
      "metadata": {
        "colab": {
          "base_uri": "https://localhost:8080/"
        },
        "id": "e_Fqz1AC9SHa",
        "outputId": "94091396-5798-46ec-eee0-9ed1566d0f6b"
      },
      "execution_count": 48,
      "outputs": [
        {
          "output_type": "stream",
          "name": "stderr",
          "text": [
            "/usr/local/lib/python3.10/dist-packages/MDAnalysis/coordinates/XDR.py:240: UserWarning: Reload offsets from trajectory\n",
            " ctime or size or n_atoms did not match\n",
            "  warnings.warn(\"Reload offsets from trajectory\\n \"\n"
          ]
        }
      ]
    },
    {
      "cell_type": "markdown",
      "source": [
        "Define the  atom selections for the benzene ring in Phe19, Phe 20, Tyr10 and Phe4 and the H atom in N-H bond of Gly22/Glu22\n"
      ],
      "metadata": {
        "id": "QhFWjNOe-eXq"
      }
    },
    {
      "cell_type": "code",
      "source": [
        "# the following label is used to select the benzene ring in VMD too -> resid 20 and (name CE1 or name CE2 or name CZ or name CD1 or name CD2 or name CG)\n",
        "benzene_atoms20 = u1.select_atoms(\"(resid 20 and (name CE1 or name CE2 or name CZ or name CD1 or name CD2 or name CG))\")\n",
        "benzene_atoms19 = u1.select_atoms(\"(resid 19 and (name CE1 or name CE2 or name CZ or name CD1 or name CD2 or name CG))\")\n",
        "benzene_atoms10 = u1.select_atoms(\"(resid 10 and (name CE1 or name CE2 or name CZ or name CD1 or name CD2 or name CG))\")\n",
        "benzene_atoms04 = u1.select_atoms(\"(resid 4 and (name CE1 or name CE2 or name CZ or name CD1 or name CD2 or name CG))\")\n",
        "H_atom= u1.select_atoms(\"(resid 22 and name H)\")"
      ],
      "metadata": {
        "id": "tBux5_Zu-yGZ"
      },
      "execution_count": 49,
      "outputs": []
    },
    {
      "cell_type": "code",
      "source": [
        "angles = []\n",
        "dist = []\n",
        "output = {}"
      ],
      "metadata": {
        "id": "xyIGjWLTAWCX"
      },
      "execution_count": 50,
      "outputs": []
    },
    {
      "cell_type": "markdown",
      "source": [
        "Loop through each frame and get the coordinates for each of them, calculate the coordinates for the centroid of the ary interaction and find the distance and angle for each of the centroid and H-N of residue 22"
      ],
      "metadata": {
        "id": "Q8zesmq0AfHc"
      }
    },
    {
      "cell_type": "code",
      "source": [
        "rows = []\n",
        "rows_Res20 = []\n",
        "hist20 ={'3':0 , '3.5':0 , '4':0 ,'4.5':0 , '5':0 ,'5.5':0 , '6':0 }\n",
        "#print(hist20)\n",
        "\n",
        "for ts in u1.trajectory:\n",
        "  i=1\n",
        "  b20=benzene_atoms20.positions\n",
        "  b19=benzene_atoms19.positions\n",
        "  b10=benzene_atoms10.positions\n",
        "  b04=benzene_atoms04.positions\n",
        "  h22=H_atom.positions\n",
        "  # Calculate the centroid of the benzene ring\n",
        "  c20 = np.mean(b20, axis=0)\n",
        "  c19 = np.mean(b19, axis=0)\n",
        "  c10 = np.mean(b10, axis=0)\n",
        "  c04 = np.mean(b04, axis=0)\n",
        "  #calculate the vector\n",
        "  v20_h=h22-c20\n",
        "  v19_h=h22-c19\n",
        "  v10_h=h22-c10\n",
        "  v04_h=h22-c04\n",
        "  # Calculate the distance between the centroid and the H atom\n",
        "  dist20 = np.linalg.norm(v20_h)\n",
        "  dist19 = np.linalg.norm(v19_h)\n",
        "  dist10 = np.linalg.norm(v10_h)\n",
        "  dist04 = np.linalg.norm(v04_h)\n",
        "  # Calculate the angle between the vector from centroid to H atom and a reference vector (e.g., [1,0,0])\n",
        "  reference_vector = np.array([1, 0, 0])\n",
        "  dot_product20 = np.dot(v20_h, reference_vector)\n",
        "  dot_product19 = np.dot(v19_h, reference_vector)\n",
        "  dot_product10 = np.dot(v10_h, reference_vector)\n",
        "  dot_product04 = np.dot(v04_h, reference_vector)\n",
        "  magnitude_product20 = np.linalg.norm(v20_h) * np.linalg.norm(reference_vector)\n",
        "  magnitude_product19 = np.linalg.norm(v19_h) * np.linalg.norm(reference_vector)\n",
        "  magnitude_product10 = np.linalg.norm(v10_h) * np.linalg.norm(reference_vector)\n",
        "  magnitude_product04 = np.linalg.norm(v04_h) * np.linalg.norm(reference_vector)\n",
        "  angle_rad20 = np.arccos(dot_product20 / magnitude_product20)\n",
        "  angle_rad19 = np.arccos(dot_product19 / magnitude_product19)\n",
        "  angle_rad10 = np.arccos(dot_product10 / magnitude_product10)\n",
        "  angle_rad04 = np.arccos(dot_product04 / magnitude_product04)\n",
        "  angle_deg20 = np.degrees(angle_rad20)\n",
        "  angle_deg19 = np.degrees(angle_rad19)\n",
        "  angle_deg10 = np.degrees(angle_rad10)\n",
        "  angle_deg04 = np.degrees(angle_rad04)\n",
        "  Res20=[dist20, angle_deg20]\n",
        "  Res19=[dist19, angle_deg19]\n",
        "  Res10=[dist10, angle_deg10]\n",
        "  Res04=[dist04, angle_deg04]\n",
        "  #print(Res20)\n",
        "\n",
        "  rows.append({#\n",
        "    'Residue_20_dist': dist20,\n",
        "    'Residue_20_angle': angle_deg20[0],\n",
        "    'Residue_19_dist': dist19,\n",
        "    'Residue_19_angle': angle_deg19[0],\n",
        "                'Residue_10_dist': dist10,\n",
        "    'Residue_10_angle': angle_deg10[0],\n",
        "                'Residue_04_dist': dist04,\n",
        "    'Residue_04_angle': angle_deg04[0],\n",
        "  })\n",
        "\n",
        "  if dist20 <=6 and angle_deg20[0] >=20 and angle_deg20 <=120:\n",
        "    rows_Res20.append({\n",
        "        'Residue_20_dist': dist20,\n",
        "        'Residue_20_angle': angle_deg20[0]\n",
        "        })\n",
        "    if dist20 <= 3:\n",
        "      temp = hist20['3']\n",
        "      hist20['3'] = temp + 1\n",
        "      temp = 0\n",
        "      #print(hist20)\n",
        "    elif dist20 > 3 and dist20 <=3.5 :\n",
        "      temp = hist20['3.5']\n",
        "      hist20['3.5'] = temp + 1\n",
        "      temp = 0\n",
        "    elif dist20 > 3.5 and dist20 <=4 :\n",
        "      temp = hist20['4']\n",
        "      hist20['4'] = temp + 1\n",
        "      temp = 0\n",
        "    elif dist20 > 4 and dist20 <=4.5 :\n",
        "      temp = hist20['4.5']\n",
        "      hist20['4.5'] = temp + 1\n",
        "      temp = 0\n",
        "    elif dist20 > 4.5 and dist20 <=5 :\n",
        "      temp = hist20['5']\n",
        "      hist20['5'] = temp + 1\n",
        "      temp = 0\n",
        "    elif dist20 > 5 and dist20 <=5.5 :\n",
        "      temp = hist20['5.5']\n",
        "      hist20['5.5'] = temp + 1\n",
        "      temp = 0\n",
        "    elif dist20 > 5.5 and dist20 <=6 :\n",
        "      temp = hist20['6']\n",
        "      hist20['6'] = temp + 1\n",
        "      temp = 0\n",
        "    #print(hist20)\n",
        "\n",
        "  #output[i]=[Res04, Res10, Res19, Res20]\n",
        "  #print(output)\n",
        "  #i+1\n",
        "#print(i)\n",
        "df1=pd.DataFrame(rows_Res20)"
      ],
      "metadata": {
        "id": "sgx-vOOEAesh"
      },
      "execution_count": 51,
      "outputs": []
    },
    {
      "cell_type": "markdown",
      "source": [
        "Repeat for u2 and u3"
      ],
      "metadata": {
        "id": "dAfSOUXHuMF0"
      }
    },
    {
      "cell_type": "code",
      "source": [
        "# the following label is used to select the benzene ring in VMD too -> resid 20 and (name CE1 or name CE2 or name CZ or name CD1 or name CD2 or name CG)\n",
        "benzene_atoms20 = u2.select_atoms(\"(resid 20 and (name CE1 or name CE2 or name CZ or name CD1 or name CD2 or name CG))\")\n",
        "benzene_atoms19 = u2.select_atoms(\"(resid 19 and (name CE1 or name CE2 or name CZ or name CD1 or name CD2 or name CG))\")\n",
        "benzene_atoms10 = u2.select_atoms(\"(resid 10 and (name CE1 or name CE2 or name CZ or name CD1 or name CD2 or name CG))\")\n",
        "benzene_atoms04 = u2.select_atoms(\"(resid 4 and (name CE1 or name CE2 or name CZ or name CD1 or name CD2 or name CG))\")\n",
        "H_atom= u2.select_atoms(\"(resid 22 and name H)\")\n",
        "angles = []\n",
        "dist = []\n",
        "rows = []\n",
        "rows_Res20 = []\n",
        "for ts in u2.trajectory:\n",
        "  i=1\n",
        "  b20=benzene_atoms20.positions\n",
        "  b19=benzene_atoms19.positions\n",
        "  b10=benzene_atoms10.positions\n",
        "  b04=benzene_atoms04.positions\n",
        "  h22=H_atom.positions\n",
        "  # Calculate the centroid of the benzene ring\n",
        "  c20 = np.mean(b20, axis=0)\n",
        "  c19 = np.mean(b19, axis=0)\n",
        "  c10 = np.mean(b10, axis=0)\n",
        "  c04 = np.mean(b04, axis=0)\n",
        "  #calculate the vector\n",
        "  v20_h=h22-c20\n",
        "  v19_h=h22-c19\n",
        "  v10_h=h22-c10\n",
        "  v04_h=h22-c04\n",
        "  # Calculate the distance between the centroid and the H atom\n",
        "  dist20 = np.linalg.norm(v20_h)\n",
        "  dist19 = np.linalg.norm(v19_h)\n",
        "  dist10 = np.linalg.norm(v10_h)\n",
        "  dist04 = np.linalg.norm(v04_h)\n",
        "  # Calculate the angle between the vector from centroid to H atom and a reference vector (e.g., [1,0,0])\n",
        "  reference_vector = np.array([1, 0, 0])\n",
        "  dot_product20 = np.dot(v20_h, reference_vector)\n",
        "  dot_product19 = np.dot(v19_h, reference_vector)\n",
        "  dot_product10 = np.dot(v10_h, reference_vector)\n",
        "  dot_product04 = np.dot(v04_h, reference_vector)\n",
        "  magnitude_product20 = np.linalg.norm(v20_h) * np.linalg.norm(reference_vector)\n",
        "  magnitude_product19 = np.linalg.norm(v19_h) * np.linalg.norm(reference_vector)\n",
        "  magnitude_product10 = np.linalg.norm(v10_h) * np.linalg.norm(reference_vector)\n",
        "  magnitude_product04 = np.linalg.norm(v04_h) * np.linalg.norm(reference_vector)\n",
        "  angle_rad20 = np.arccos(dot_product20 / magnitude_product20)\n",
        "  angle_rad19 = np.arccos(dot_product19 / magnitude_product19)\n",
        "  angle_rad10 = np.arccos(dot_product10 / magnitude_product10)\n",
        "  angle_rad04 = np.arccos(dot_product04 / magnitude_product04)\n",
        "  angle_deg20 = np.degrees(angle_rad20)\n",
        "  angle_deg19 = np.degrees(angle_rad19)\n",
        "  angle_deg10 = np.degrees(angle_rad10)\n",
        "  angle_deg04 = np.degrees(angle_rad04)\n",
        "  Res20=[dist20, angle_deg20]\n",
        "  Res19=[dist19, angle_deg19]\n",
        "  Res10=[dist10, angle_deg10]\n",
        "  Res04=[dist04, angle_deg04]\n",
        "  #print(Res20)\n",
        "\n",
        "  rows.append({#\n",
        "    'Residue_20_dist': dist20,\n",
        "    'Residue_20_angle': angle_deg20[0],\n",
        "    'Residue_19_dist': dist19,\n",
        "    'Residue_19_angle': angle_deg19[0],\n",
        "                'Residue_10_dist': dist10,\n",
        "    'Residue_10_angle': angle_deg10[0],\n",
        "                'Residue_04_dist': dist04,\n",
        "    'Residue_04_angle': angle_deg04[0],\n",
        "  })\n",
        "\n",
        "  if dist20 <=6 and angle_deg20[0] >=20 and angle_deg20 <=120:\n",
        "    rows_Res20.append({\n",
        "        'Residue_20_dist': dist20,\n",
        "        'Residue_20_angle': angle_deg20[0]\n",
        "        })\n",
        "    if dist20 <= 3:\n",
        "      temp = hist20['3']\n",
        "      hist20['3'] = temp + 1\n",
        "      temp = 0\n",
        "      #print(hist20)\n",
        "    elif dist20 > 3 and dist20 <=3.5 :\n",
        "      temp = hist20['3.5']\n",
        "      hist20['3.5'] = temp + 1\n",
        "      temp = 0\n",
        "    elif dist20 > 3.5 and dist20 <=4 :\n",
        "      temp = hist20['4']\n",
        "      hist20['4'] = temp + 1\n",
        "      temp = 0\n",
        "    elif dist20 > 4 and dist20 <=4.5 :\n",
        "      temp = hist20['4.5']\n",
        "      hist20['4.5'] = temp + 1\n",
        "      temp = 0\n",
        "    elif dist20 > 4.5 and dist20 <=5 :\n",
        "      temp = hist20['5']\n",
        "      hist20['5'] = temp + 1\n",
        "      temp = 0\n",
        "    elif dist20 > 5 and dist20 <=5.5 :\n",
        "      temp = hist20['5.5']\n",
        "      hist20['5.5'] = temp + 1\n",
        "      temp = 0\n",
        "    elif dist20 > 5.5 and dist20 <=6 :\n",
        "      temp = hist20['6']\n",
        "      hist20['6'] = temp + 1\n",
        "      temp = 0\n",
        "df2=pd.DataFrame(rows_Res20)\n",
        "#u3\n",
        "benzene_atoms20 = u3.select_atoms(\"(resid 20 and (name CE1 or name CE2 or name CZ or name CD1 or name CD2 or name CG))\")\n",
        "benzene_atoms19 = u3.select_atoms(\"(resid 19 and (name CE1 or name CE2 or name CZ or name CD1 or name CD2 or name CG))\")\n",
        "benzene_atoms10 = u3.select_atoms(\"(resid 10 and (name CE1 or name CE2 or name CZ or name CD1 or name CD2 or name CG))\")\n",
        "benzene_atoms04 = u3.select_atoms(\"(resid 4 and (name CE1 or name CE2 or name CZ or name CD1 or name CD2 or name CG))\")\n",
        "H_atom= u3.select_atoms(\"(resid 22 and name H)\")\n",
        "angles = []\n",
        "dist = []\n",
        "rows = []\n",
        "rows_Res20 = []\n",
        "for ts in u3.trajectory:\n",
        "  i=1\n",
        "  b20=benzene_atoms20.positions\n",
        "  b19=benzene_atoms19.positions\n",
        "  b10=benzene_atoms10.positions\n",
        "  b04=benzene_atoms04.positions\n",
        "  h22=H_atom.positions\n",
        "  # Calculate the centroid of the benzene ring\n",
        "  c20 = np.mean(b20, axis=0)\n",
        "  c19 = np.mean(b19, axis=0)\n",
        "  c10 = np.mean(b10, axis=0)\n",
        "  c04 = np.mean(b04, axis=0)\n",
        "  #calculate the vector\n",
        "  v20_h=h22-c20\n",
        "  v19_h=h22-c19\n",
        "  v10_h=h22-c10\n",
        "  v04_h=h22-c04\n",
        "  # Calculate the distance between the centroid and the H atom\n",
        "  dist20 = np.linalg.norm(v20_h)\n",
        "  dist19 = np.linalg.norm(v19_h)\n",
        "  dist10 = np.linalg.norm(v10_h)\n",
        "  dist04 = np.linalg.norm(v04_h)\n",
        "  # Calculate the angle between the vector from centroid to H atom and a reference vector (e.g., [1,0,0])\n",
        "  reference_vector = np.array([1, 0, 0])\n",
        "  dot_product20 = np.dot(v20_h, reference_vector)\n",
        "  dot_product19 = np.dot(v19_h, reference_vector)\n",
        "  dot_product10 = np.dot(v10_h, reference_vector)\n",
        "  dot_product04 = np.dot(v04_h, reference_vector)\n",
        "  magnitude_product20 = np.linalg.norm(v20_h) * np.linalg.norm(reference_vector)\n",
        "  magnitude_product19 = np.linalg.norm(v19_h) * np.linalg.norm(reference_vector)\n",
        "  magnitude_product10 = np.linalg.norm(v10_h) * np.linalg.norm(reference_vector)\n",
        "  magnitude_product04 = np.linalg.norm(v04_h) * np.linalg.norm(reference_vector)\n",
        "  angle_rad20 = np.arccos(dot_product20 / magnitude_product20)\n",
        "  angle_rad19 = np.arccos(dot_product19 / magnitude_product19)\n",
        "  angle_rad10 = np.arccos(dot_product10 / magnitude_product10)\n",
        "  angle_rad04 = np.arccos(dot_product04 / magnitude_product04)\n",
        "  angle_deg20 = np.degrees(angle_rad20)\n",
        "  angle_deg19 = np.degrees(angle_rad19)\n",
        "  angle_deg10 = np.degrees(angle_rad10)\n",
        "  angle_deg04 = np.degrees(angle_rad04)\n",
        "  Res20=[dist20, angle_deg20]\n",
        "  Res19=[dist19, angle_deg19]\n",
        "  Res10=[dist10, angle_deg10]\n",
        "  Res04=[dist04, angle_deg04]\n",
        "  #print(Res20)\n",
        "\n",
        "  rows.append({#\n",
        "    'Residue_20_dist': dist20,\n",
        "    'Residue_20_angle': angle_deg20[0],\n",
        "    'Residue_19_dist': dist19,\n",
        "    'Residue_19_angle': angle_deg19[0],\n",
        "                'Residue_10_dist': dist10,\n",
        "    'Residue_10_angle': angle_deg10[0],\n",
        "                'Residue_04_dist': dist04,\n",
        "    'Residue_04_angle': angle_deg04[0],\n",
        "  })\n",
        "\n",
        "  if dist20 <=6 and angle_deg20[0] >=20 and angle_deg20 <=120:\n",
        "    rows_Res20.append({\n",
        "        'Residue_20_dist': dist20,\n",
        "        'Residue_20_angle': angle_deg20[0]\n",
        "        })\n",
        "    if dist20 <= 3:\n",
        "      temp = hist20['3']\n",
        "      hist20['3'] = temp + 1\n",
        "      temp = 0\n",
        "      #print(hist20)\n",
        "    elif dist20 > 3 and dist20 <=3.5 :\n",
        "      temp = hist20['3.5']\n",
        "      hist20['3.5'] = temp + 1\n",
        "      temp = 0\n",
        "    elif dist20 > 3.5 and dist20 <=4 :\n",
        "      temp = hist20['4']\n",
        "      hist20['4'] = temp + 1\n",
        "      temp = 0\n",
        "    elif dist20 > 4 and dist20 <=4.5 :\n",
        "      temp = hist20['4.5']\n",
        "      hist20['4.5'] = temp + 1\n",
        "      temp = 0\n",
        "    elif dist20 > 4.5 and dist20 <=5 :\n",
        "      temp = hist20['5']\n",
        "      hist20['5'] = temp + 1\n",
        "      temp = 0\n",
        "    elif dist20 > 5 and dist20 <=5.5 :\n",
        "      temp = hist20['5.5']\n",
        "      hist20['5.5'] = temp + 1\n",
        "      temp = 0\n",
        "    elif dist20 > 5.5 and dist20 <=6 :\n",
        "      temp = hist20['6']\n",
        "      hist20['6'] = temp + 1\n",
        "      temp = 0\n",
        "df3=pd.DataFrame(rows_Res20)"
      ],
      "metadata": {
        "id": "1hSPsVVyuLrv"
      },
      "execution_count": 52,
      "outputs": []
    },
    {
      "cell_type": "code",
      "source": [
        "df1 = pd.DataFrame(rows)\n",
        "df2 = pd.DataFrame(rows_Res20)\n",
        "#print(hist20)"
      ],
      "metadata": {
        "colab": {
          "base_uri": "https://localhost:8080/"
        },
        "id": "pgRv_D_wbK0f",
        "outputId": "f54d03cd-f156-4008-ac7e-5afce444533a"
      },
      "execution_count": 21,
      "outputs": [
        {
          "output_type": "stream",
          "name": "stdout",
          "text": [
            "{'3': 25, '4': 17, '5': 5, '6': 12}\n"
          ]
        }
      ]
    },
    {
      "cell_type": "markdown",
      "source": [
        "Plotting disjointed histogram"
      ],
      "metadata": {
        "id": "n87QyyyQZ4aq"
      }
    },
    {
      "cell_type": "code",
      "source": [
        "#Plot histogram\n",
        "plt.bar(hist20.keys() , hist20.values())\n",
        "plt.xlabel('Distance Å')\n",
        "plt.ylabel('Number of Occurences n')\n",
        "plt.show()"
      ],
      "metadata": {
        "colab": {
          "base_uri": "https://localhost:8080/",
          "height": 449
        },
        "id": "LA-LqzMiJKX0",
        "outputId": "cd3c8dae-e33f-4cb3-bc57-cb30370a8852"
      },
      "execution_count": 26,
      "outputs": [
        {
          "output_type": "display_data",
          "data": {
            "text/plain": [
              "<Figure size 640x480 with 1 Axes>"
            ],
            "image/png": "[encoded data removed]"
          },
          "metadata": {}
        }
      ]
    },
    {
      "cell_type": "markdown",
      "source": [
        "Plotting a continuous histogram"
      ],
      "metadata": {
        "id": "ByVAWv6OZxw-"
      }
    },
    {
      "cell_type": "code",
      "source": [
        "bin_edges = np.arange(2.5, 6.0, 0.1)\n",
        "print(rows_Res20)\n",
        "# Calculate histogram\n",
        "hist_df1, _ = np.histogram(df1['Residue_20_dist'], bins=bin_edges)\n",
        "hist_df2, _ = np.histogram(df2['Residue_20_dist'], bins=bin_edges)\n",
        "hist_df3, _ = np.histogram(df3['Residue_20_dist'], bins=bin_edges)\n",
        "# Plot histogram\n",
        "plt.bar(bin_edges[:-1], hist_df1, width=0.1, align='edge', color='none', edgecolor='blue',hatch='.', label='MD Run 1')\n",
        "plt.bar(bin_edges[:-1], hist_df2, width=0.1, align='edge', color='none', edgecolor='red', hatch='\\\\', label='MD Run 2')\n",
        "plt.bar(bin_edges[:-1], hist_df3, width=0.1, align='edge', color='none', edgecolor='green',hatch='/', label='MD Run 3')\n",
        "plt.xlabel('Distance Å')\n",
        "plt.ylabel('Number of Occurrences')\n",
        "plt.savefig('histogram.png', dpi=600)\n",
        "plt.show()"
      ],
      "metadata": {
        "colab": {
          "base_uri": "https://localhost:8080/",
          "height": 486
        },
        "id": "3r-vWryZX_jU",
        "outputId": "54985512-3e93-4f12-89b6-26d92e0cd550"
      },
      "execution_count": 60,
      "outputs": [
        {
          "output_type": "stream",
          "name": "stdout",
          "text": [
            "[{'Residue_20_dist': 2.6378226, 'Residue_20_angle': 114.52650305894625}, {'Residue_20_dist': 3.993022, 'Residue_20_angle': 98.20705815264925}, {'Residue_20_dist': 2.669699, 'Residue_20_angle': 41.80664094627574}, {'Residue_20_dist': 5.7919607, 'Residue_20_angle': 85.3123248702583}, {'Residue_20_dist': 5.600802, 'Residue_20_angle': 36.16460512366108}, {'Residue_20_dist': 5.068687, 'Residue_20_angle': 66.6577170781497}, {'Residue_20_dist': 4.7814927, 'Residue_20_angle': 109.97414271789214}, {'Residue_20_dist': 2.500416, 'Residue_20_angle': 21.48519146402099}, {'Residue_20_dist': 3.3537557, 'Residue_20_angle': 61.99009983366634}, {'Residue_20_dist': 3.3408463, 'Residue_20_angle': 76.67482988719895}, {'Residue_20_dist': 2.4887345, 'Residue_20_angle': 64.9180944974618}, {'Residue_20_dist': 3.0730393, 'Residue_20_angle': 68.05745406276205}, {'Residue_20_dist': 2.831323, 'Residue_20_angle': 81.74190927721682}, {'Residue_20_dist': 2.6852732, 'Residue_20_angle': 61.61233518814342}, {'Residue_20_dist': 2.8963363, 'Residue_20_angle': 36.10718797263843}, {'Residue_20_dist': 2.6601508, 'Residue_20_angle': 45.986617396074436}, {'Residue_20_dist': 2.892729, 'Residue_20_angle': 60.10740962602938}, {'Residue_20_dist': 2.8685946, 'Residue_20_angle': 90.36618474667652}, {'Residue_20_dist': 5.891518, 'Residue_20_angle': 61.66056393093844}, {'Residue_20_dist': 5.981227, 'Residue_20_angle': 55.35810329443748}, {'Residue_20_dist': 3.6825147, 'Residue_20_angle': 31.396413140186493}, {'Residue_20_dist': 4.247378, 'Residue_20_angle': 98.80290576619662}, {'Residue_20_dist': 3.0395656, 'Residue_20_angle': 66.74682519216802}, {'Residue_20_dist': 5.9262786, 'Residue_20_angle': 58.74319074314617}, {'Residue_20_dist': 2.5439131, 'Residue_20_angle': 101.25856851705969}, {'Residue_20_dist': 2.8340373, 'Residue_20_angle': 65.94926827839919}, {'Residue_20_dist': 5.0627685, 'Residue_20_angle': 55.14564257387245}, {'Residue_20_dist': 2.8849509, 'Residue_20_angle': 72.58716524602741}, {'Residue_20_dist': 4.5005383, 'Residue_20_angle': 88.8542888815621}, {'Residue_20_dist': 5.7818894, 'Residue_20_angle': 81.29572275406066}, {'Residue_20_dist': 2.9059284, 'Residue_20_angle': 39.46732447725567}, {'Residue_20_dist': 3.809745, 'Residue_20_angle': 103.74188894867677}, {'Residue_20_dist': 3.0588152, 'Residue_20_angle': 108.25824505848648}, {'Residue_20_dist': 2.6530993, 'Residue_20_angle': 75.81851000568149}, {'Residue_20_dist': 2.3972573, 'Residue_20_angle': 110.38424673188374}, {'Residue_20_dist': 2.8269668, 'Residue_20_angle': 56.548129726642834}, {'Residue_20_dist': 3.2114892, 'Residue_20_angle': 89.73226066481323}, {'Residue_20_dist': 3.6580918, 'Residue_20_angle': 70.82237141909803}, {'Residue_20_dist': 2.4986463, 'Residue_20_angle': 105.95105941795644}, {'Residue_20_dist': 2.8170207, 'Residue_20_angle': 73.46628655112335}, {'Residue_20_dist': 5.506617, 'Residue_20_angle': 102.05429670168657}, {'Residue_20_dist': 2.8127928, 'Residue_20_angle': 66.90493519067222}, {'Residue_20_dist': 2.7913353, 'Residue_20_angle': 85.99380147477736}, {'Residue_20_dist': 2.8071642, 'Residue_20_angle': 91.02064402307045}, {'Residue_20_dist': 2.6955147, 'Residue_20_angle': 46.46469862028644}, {'Residue_20_dist': 4.3808947, 'Residue_20_angle': 103.86752272381395}, {'Residue_20_dist': 2.3731616, 'Residue_20_angle': 23.378281638986696}, {'Residue_20_dist': 5.695028, 'Residue_20_angle': 114.48141247892268}, {'Residue_20_dist': 4.072576, 'Residue_20_angle': 96.10800600073193}, {'Residue_20_dist': 2.457159, 'Residue_20_angle': 108.67236648008397}, {'Residue_20_dist': 3.7054913, 'Residue_20_angle': 34.14677748349322}, {'Residue_20_dist': 3.4155557, 'Residue_20_angle': 37.49282487776396}, {'Residue_20_dist': 3.2371259, 'Residue_20_angle': 40.35978941236361}, {'Residue_20_dist': 3.1862378, 'Residue_20_angle': 40.532252992072216}, {'Residue_20_dist': 3.8561895, 'Residue_20_angle': 42.53108736226519}, {'Residue_20_dist': 5.401019, 'Residue_20_angle': 40.03989796263152}, {'Residue_20_dist': 5.1032305, 'Residue_20_angle': 95.71669619301876}, {'Residue_20_dist': 3.206454, 'Residue_20_angle': 87.2889077655609}, {'Residue_20_dist': 3.4534118, 'Residue_20_angle': 112.32241726220732}]\n"
          ]
        },
        {
          "output_type": "display_data",
          "data": {
            "text/plain": [
              "<Figure size 640x480 with 1 Axes>"
            ],
            "image/png": "[encoded data removed]"
          },
          "metadata": {}
        }
      ]
    },
    {
      "cell_type": "code",
      "source": [
        "df2.to_csv('test.csv')"
      ],
      "metadata": {
        "id": "q7NyF59VbPTi"
      },
      "execution_count": 12,
      "outputs": []
    },
    {
      "cell_type": "code",
      "source": [
        "print(output)"
      ],
      "metadata": {
        "colab": {
          "base_uri": "https://localhost:8080/"
        },
        "id": "1aIl9rSXBrXL",
        "outputId": "cbfd8738-e2cb-457b-e2f1-021eb22186d7"
      },
      "execution_count": 10,
      "outputs": [
        {
          "output_type": "stream",
          "name": "stdout",
          "text": [
            "{1: [[29.882538, array([102.04981984])], [25.050241, array([122.03704396])], [10.321248, array([118.70100755])], [9.212422, array([169.73616508])]]}\n"
          ]
        }
      ]
    }
  ]
}